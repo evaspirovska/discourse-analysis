{
  "nbformat": 4,
  "nbformat_minor": 0,
  "metadata": {
    "colab": {
      "provenance": []
    },
    "kernelspec": {
      "name": "python3",
      "display_name": "Python 3"
    },
    "language_info": {
      "name": "python"
    }
  },
  "cells": [
    {
      "cell_type": "code",
      "execution_count": null,
      "metadata": {
        "colab": {
          "base_uri": "https://localhost:8080/"
        },
        "id": "jD1LORgisJ2U",
        "outputId": "3d924a0a-35ec-4cc1-c8a4-a2a585c1a33c"
      },
      "outputs": [
        {
          "output_type": "stream",
          "name": "stdout",
          "text": [
            "Collecting groq\n",
            "  Downloading groq-0.13.1-py3-none-any.whl.metadata (14 kB)\n",
            "Requirement already satisfied: anyio<5,>=3.5.0 in /usr/local/lib/python3.10/dist-packages (from groq) (3.7.1)\n",
            "Requirement already satisfied: distro<2,>=1.7.0 in /usr/local/lib/python3.10/dist-packages (from groq) (1.9.0)\n",
            "Requirement already satisfied: httpx<1,>=0.23.0 in /usr/local/lib/python3.10/dist-packages (from groq) (0.28.1)\n",
            "Requirement already satisfied: pydantic<3,>=1.9.0 in /usr/local/lib/python3.10/dist-packages (from groq) (2.10.3)\n",
            "Requirement already satisfied: sniffio in /usr/local/lib/python3.10/dist-packages (from groq) (1.3.1)\n",
            "Requirement already satisfied: typing-extensions<5,>=4.10 in /usr/local/lib/python3.10/dist-packages (from groq) (4.12.2)\n",
            "Requirement already satisfied: idna>=2.8 in /usr/local/lib/python3.10/dist-packages (from anyio<5,>=3.5.0->groq) (3.10)\n",
            "Requirement already satisfied: exceptiongroup in /usr/local/lib/python3.10/dist-packages (from anyio<5,>=3.5.0->groq) (1.2.2)\n",
            "Requirement already satisfied: certifi in /usr/local/lib/python3.10/dist-packages (from httpx<1,>=0.23.0->groq) (2024.12.14)\n",
            "Requirement already satisfied: httpcore==1.* in /usr/local/lib/python3.10/dist-packages (from httpx<1,>=0.23.0->groq) (1.0.7)\n",
            "Requirement already satisfied: h11<0.15,>=0.13 in /usr/local/lib/python3.10/dist-packages (from httpcore==1.*->httpx<1,>=0.23.0->groq) (0.14.0)\n",
            "Requirement already satisfied: annotated-types>=0.6.0 in /usr/local/lib/python3.10/dist-packages (from pydantic<3,>=1.9.0->groq) (0.7.0)\n",
            "Requirement already satisfied: pydantic-core==2.27.1 in /usr/local/lib/python3.10/dist-packages (from pydantic<3,>=1.9.0->groq) (2.27.1)\n",
            "Downloading groq-0.13.1-py3-none-any.whl (109 kB)\n",
            "\u001b[?25l   \u001b[90m━━━━━━━━━━━━━━━━━━━━━━━━━━━━━━━━━━━━━━━━\u001b[0m \u001b[32m0.0/109.1 kB\u001b[0m \u001b[31m?\u001b[0m eta \u001b[36m-:--:--\u001b[0m\r\u001b[2K   \u001b[90m━━━━━━━━━━━━━━━━━━━━━━━━━━━━━━━━━━━━━━━━\u001b[0m \u001b[32m109.1/109.1 kB\u001b[0m \u001b[31m5.3 MB/s\u001b[0m eta \u001b[36m0:00:00\u001b[0m\n",
            "\u001b[?25hInstalling collected packages: groq\n",
            "Successfully installed groq-0.13.1\n"
          ]
        }
      ],
      "source": [
        "!pip install groq"
      ]
    },
    {
      "cell_type": "code",
      "source": [
        "import os\n",
        "from groq import Groq\n",
        "import pandas as pd\n",
        "import numpy as np\n",
        "import os\n",
        "import json\n",
        "import time\n",
        "import string\n",
        "from sklearn.metrics import f1_score, accuracy_score\n",
        "from sklearn.metrics import confusion_matrix\n",
        "import seaborn as sns\n",
        "import matplotlib.pyplot as plt"
      ],
      "metadata": {
        "id": "kToHfWZit49s"
      },
      "execution_count": null,
      "outputs": []
    },
    {
      "cell_type": "code",
      "source": [
        "client = Groq(\n",
        "    api_key=\"access_token\",\n",
        ")"
      ],
      "metadata": {
        "id": "7L9mAjYqumFg"
      },
      "execution_count": null,
      "outputs": []
    },
    {
      "cell_type": "code",
      "source": [
        "def batch_gpt(message_prompt):\n",
        "    rez = {}\n",
        "    responses = []\n",
        "    response = client.chat.completions.create(\n",
        "                  messages=[\n",
        "                      {\n",
        "                          \"role\": \"user\",\n",
        "                          \"content\": message_prompt,\n",
        "                      }\n",
        "                  ],\n",
        "                  model=\"gemma2-9b-it\",\n",
        "              )\n",
        "    r = response.choices[0].message.content\n",
        "    responses.append(r)\n",
        "\n",
        "    return r, responses"
      ],
      "metadata": {
        "id": "rn6Lly4IuKW0"
      },
      "execution_count": null,
      "outputs": []
    },
    {
      "cell_type": "code",
      "source": [
        "def get_mess():\n",
        "  mess = \"\"\"\n",
        "You need to find the existing discourse relations between 2 elementary discourse units. Discourse relations between 2 discourse units can be explicit or implicit.\n",
        "I will give you a text and 2 elementary discourse units extracted from that text and then i will provide you with all the 12 possible discourse relation types from which you should choose one. In the context of the example discourse units, discourse_unit_1 comes before discourse_unit_2. From the give relaions_types you should  determine the type of existing discourse relation between 2 given example elementary discourse units.\n",
        "Return the result in json format  with no addition explanation:\n",
        "example:\n",
        "{\"discourse_relation\" : \"found_discourse_relation\"}\n",
        "      \"\"\"\n",
        "\n",
        "  return mess"
      ],
      "metadata": {
        "id": "TtIJW5aAsXbC"
      },
      "execution_count": null,
      "outputs": []
    },
    {
      "cell_type": "code",
      "source": [
        "dataset = pd.read_csv('/content/drive/MyDrive/chat_gpt_datasets/eng.dep.covdtb_test.rels.csv', sep='\\t')\n",
        "df = pd.DataFrame(columns=['EDU_1', 'EDU_2', 'Real discourse relation', 'Gamma discourse relation'])\n",
        "unprocessed_data = pd.DataFrame(columns=['unit1_sent', 'unit2_sent', 'dir', 'label'])\n",
        "dataset.shape"
      ],
      "metadata": {
        "colab": {
          "base_uri": "https://localhost:8080/"
        },
        "id": "KmpTJauhuu07",
        "outputId": "ac696293-4e33-4e4f-f900-df8830a293ef"
      },
      "execution_count": null,
      "outputs": [
        {
          "output_type": "execute_result",
          "data": {
            "text/plain": [
              "(2586, 12)"
            ]
          },
          "metadata": {},
          "execution_count": 5
        }
      ]
    },
    {
      "cell_type": "markdown",
      "source": [],
      "metadata": {
        "id": "vv4VjwFGuyf5"
      }
    },
    {
      "cell_type": "code",
      "source": [
        "dataset.head(1)"
      ],
      "metadata": {
        "colab": {
          "base_uri": "https://localhost:8080/",
          "height": 170
        },
        "id": "wBVDdqR8uxf6",
        "outputId": "1b05fecc-383b-494a-f7ec-1b1027501b20"
      },
      "execution_count": null,
      "outputs": [
        {
          "output_type": "execute_result",
          "data": {
            "text/plain": [
              "                                        doc unit1_toks unit2_toks  \\\n",
              "0  00c862a6402381a8541bcffe843696e059095300       1-18      19-22   \n",
              "\n",
              "                                           unit1_txt       unit2_txt s1_toks  \\\n",
              "0  In this study , we investigated turkey reoviru...  aged 15 days .    1-22   \n",
              "\n",
              "  s2_toks                                         unit1_sent  \\\n",
              "0    1-22  In this study , we investigated turkey reoviru...   \n",
              "\n",
              "                                          unit2_sent  dir   orig_label  \\\n",
              "0  In this study , we investigated turkey reoviru...  1<2  elaboration   \n",
              "\n",
              "         label  \n",
              "0  elaboration  "
            ],
            "text/html": [
              "\n",
              "  <div id=\"df-bc6a017b-7bf5-4dc7-80f4-f43400698581\" class=\"colab-df-container\">\n",
              "    <div>\n",
              "<style scoped>\n",
              "    .dataframe tbody tr th:only-of-type {\n",
              "        vertical-align: middle;\n",
              "    }\n",
              "\n",
              "    .dataframe tbody tr th {\n",
              "        vertical-align: top;\n",
              "    }\n",
              "\n",
              "    .dataframe thead th {\n",
              "        text-align: right;\n",
              "    }\n",
              "</style>\n",
              "<table border=\"1\" class=\"dataframe\">\n",
              "  <thead>\n",
              "    <tr style=\"text-align: right;\">\n",
              "      <th></th>\n",
              "      <th>doc</th>\n",
              "      <th>unit1_toks</th>\n",
              "      <th>unit2_toks</th>\n",
              "      <th>unit1_txt</th>\n",
              "      <th>unit2_txt</th>\n",
              "      <th>s1_toks</th>\n",
              "      <th>s2_toks</th>\n",
              "      <th>unit1_sent</th>\n",
              "      <th>unit2_sent</th>\n",
              "      <th>dir</th>\n",
              "      <th>orig_label</th>\n",
              "      <th>label</th>\n",
              "    </tr>\n",
              "  </thead>\n",
              "  <tbody>\n",
              "    <tr>\n",
              "      <th>0</th>\n",
              "      <td>00c862a6402381a8541bcffe843696e059095300</td>\n",
              "      <td>1-18</td>\n",
              "      <td>19-22</td>\n",
              "      <td>In this study , we investigated turkey reoviru...</td>\n",
              "      <td>aged 15 days .</td>\n",
              "      <td>1-22</td>\n",
              "      <td>1-22</td>\n",
              "      <td>In this study , we investigated turkey reoviru...</td>\n",
              "      <td>In this study , we investigated turkey reoviru...</td>\n",
              "      <td>1&lt;2</td>\n",
              "      <td>elaboration</td>\n",
              "      <td>elaboration</td>\n",
              "    </tr>\n",
              "  </tbody>\n",
              "</table>\n",
              "</div>\n",
              "    <div class=\"colab-df-buttons\">\n",
              "\n",
              "  <div class=\"colab-df-container\">\n",
              "    <button class=\"colab-df-convert\" onclick=\"convertToInteractive('df-bc6a017b-7bf5-4dc7-80f4-f43400698581')\"\n",
              "            title=\"Convert this dataframe to an interactive table.\"\n",
              "            style=\"display:none;\">\n",
              "\n",
              "  <svg xmlns=\"http://www.w3.org/2000/svg\" height=\"24px\" viewBox=\"0 -960 960 960\">\n",
              "    <path d=\"M120-120v-720h720v720H120Zm60-500h600v-160H180v160Zm220 220h160v-160H400v160Zm0 220h160v-160H400v160ZM180-400h160v-160H180v160Zm440 0h160v-160H620v160ZM180-180h160v-160H180v160Zm440 0h160v-160H620v160Z\"/>\n",
              "  </svg>\n",
              "    </button>\n",
              "\n",
              "  <style>\n",
              "    .colab-df-container {\n",
              "      display:flex;\n",
              "      gap: 12px;\n",
              "    }\n",
              "\n",
              "    .colab-df-convert {\n",
              "      background-color: #E8F0FE;\n",
              "      border: none;\n",
              "      border-radius: 50%;\n",
              "      cursor: pointer;\n",
              "      display: none;\n",
              "      fill: #1967D2;\n",
              "      height: 32px;\n",
              "      padding: 0 0 0 0;\n",
              "      width: 32px;\n",
              "    }\n",
              "\n",
              "    .colab-df-convert:hover {\n",
              "      background-color: #E2EBFA;\n",
              "      box-shadow: 0px 1px 2px rgba(60, 64, 67, 0.3), 0px 1px 3px 1px rgba(60, 64, 67, 0.15);\n",
              "      fill: #174EA6;\n",
              "    }\n",
              "\n",
              "    .colab-df-buttons div {\n",
              "      margin-bottom: 4px;\n",
              "    }\n",
              "\n",
              "    [theme=dark] .colab-df-convert {\n",
              "      background-color: #3B4455;\n",
              "      fill: #D2E3FC;\n",
              "    }\n",
              "\n",
              "    [theme=dark] .colab-df-convert:hover {\n",
              "      background-color: #434B5C;\n",
              "      box-shadow: 0px 1px 3px 1px rgba(0, 0, 0, 0.15);\n",
              "      filter: drop-shadow(0px 1px 2px rgba(0, 0, 0, 0.3));\n",
              "      fill: #FFFFFF;\n",
              "    }\n",
              "  </style>\n",
              "\n",
              "    <script>\n",
              "      const buttonEl =\n",
              "        document.querySelector('#df-bc6a017b-7bf5-4dc7-80f4-f43400698581 button.colab-df-convert');\n",
              "      buttonEl.style.display =\n",
              "        google.colab.kernel.accessAllowed ? 'block' : 'none';\n",
              "\n",
              "      async function convertToInteractive(key) {\n",
              "        const element = document.querySelector('#df-bc6a017b-7bf5-4dc7-80f4-f43400698581');\n",
              "        const dataTable =\n",
              "          await google.colab.kernel.invokeFunction('convertToInteractive',\n",
              "                                                    [key], {});\n",
              "        if (!dataTable) return;\n",
              "\n",
              "        const docLinkHtml = 'Like what you see? Visit the ' +\n",
              "          '<a target=\"_blank\" href=https://colab.research.google.com/notebooks/data_table.ipynb>data table notebook</a>'\n",
              "          + ' to learn more about interactive tables.';\n",
              "        element.innerHTML = '';\n",
              "        dataTable['output_type'] = 'display_data';\n",
              "        await google.colab.output.renderOutput(dataTable, element);\n",
              "        const docLink = document.createElement('div');\n",
              "        docLink.innerHTML = docLinkHtml;\n",
              "        element.appendChild(docLink);\n",
              "      }\n",
              "    </script>\n",
              "  </div>\n",
              "\n",
              "    </div>\n",
              "  </div>\n"
            ],
            "application/vnd.google.colaboratory.intrinsic+json": {
              "type": "dataframe",
              "variable_name": "dataset",
              "summary": "{\n  \"name\": \"dataset\",\n  \"rows\": 2586,\n  \"fields\": [\n    {\n      \"column\": \"doc\",\n      \"properties\": {\n        \"dtype\": \"category\",\n        \"num_unique_values\": 150,\n        \"samples\": [\n          \"79fa8fdc827ebf13a568461671621f811d9af7f5\",\n          \"20ec367d459abe3e88b7db18a359f087c37bd90e\",\n          \"c90121a3f539b59d4b528f3a1dd172b75533c0cc\"\n        ],\n        \"semantic_type\": \"\",\n        \"description\": \"\"\n      }\n    },\n    {\n      \"column\": \"unit1_toks\",\n      \"properties\": {\n        \"dtype\": \"string\",\n        \"num_unique_values\": 1425,\n        \"samples\": [\n          \"69-73\",\n          \"197-207\",\n          \"135-165\"\n        ],\n        \"semantic_type\": \"\",\n        \"description\": \"\"\n      }\n    },\n    {\n      \"column\": \"unit2_toks\",\n      \"properties\": {\n        \"dtype\": \"string\",\n        \"num_unique_values\": 1951,\n        \"samples\": [\n          \"99-112,123-129\",\n          \"32-41\",\n          \"68-76,84-98\"\n        ],\n        \"semantic_type\": \"\",\n        \"description\": \"\"\n      }\n    },\n    {\n      \"column\": \"unit1_txt\",\n      \"properties\": {\n        \"dtype\": \"string\",\n        \"num_unique_values\": 1636,\n        \"samples\": [\n          \"To deploy such vaccines ,\",\n          \"The aim of this study is to investigate the incidence of infection among mild symptomatic PSP group and asymptomatic PSP group after surgical procedure .\",\n          \"The major contributions of this article are :\"\n        ],\n        \"semantic_type\": \"\",\n        \"description\": \"\"\n      }\n    },\n    {\n      \"column\": \"unit2_txt\",\n      \"properties\": {\n        \"dtype\": \"string\",\n        \"num_unique_values\": 2373,\n        \"samples\": [\n          \"In addition , the role of this method in the future is examined .\",\n          \"that , <*> estimated IFR for M\\u0101ori is around 50 % higher than non - M\\u0101ori .\",\n          \"( n = 107 ) ,\"\n        ],\n        \"semantic_type\": \"\",\n        \"description\": \"\"\n      }\n    },\n    {\n      \"column\": \"s1_toks\",\n      \"properties\": {\n        \"dtype\": \"category\",\n        \"num_unique_values\": 906,\n        \"samples\": [\n          \"30-54\",\n          \"56-80\",\n          \"104-142\"\n        ],\n        \"semantic_type\": \"\",\n        \"description\": \"\"\n      }\n    },\n    {\n      \"column\": \"s2_toks\",\n      \"properties\": {\n        \"dtype\": \"category\",\n        \"num_unique_values\": 986,\n        \"samples\": [\n          \"173-283\",\n          \"44-69\",\n          \"136-142\"\n        ],\n        \"semantic_type\": \"\",\n        \"description\": \"\"\n      }\n    },\n    {\n      \"column\": \"unit1_sent\",\n      \"properties\": {\n        \"dtype\": \"category\",\n        \"num_unique_values\": 1024,\n        \"samples\": [\n          \"Notably , genes related to coronavirus infection and host immune system defense are under adaptive evolution while genes related to viral RNA replication , transcription and translation are under purifying selection .\",\n          \"In this paper , the new method , PFLC is introduced and its recent development is reviewed .\",\n          \"FCV is a highly infectious pathogen of cats and typically causes moderate , self - limiting acute oral and upper respiratory tract diseases or chronic oral diseases .\"\n        ],\n        \"semantic_type\": \"\",\n        \"description\": \"\"\n      }\n    },\n    {\n      \"column\": \"unit2_sent\",\n      \"properties\": {\n        \"dtype\": \"category\",\n        \"num_unique_values\": 1091,\n        \"samples\": [\n          \"Three types of status were defined for BCV and BRSV infections , based on 1 ) the dynamics over a 7-mo period of BCV - and BRSV - specific antibody levels in pooled milk of primiparous cows ; 2 ) the possible occurrence of presumably BCV - and BRSV - related clinical outbreaks ; and 3 ) the combination of both pieces of information .\",\n          \"The ' missing ring ' ( in many treatments of the topic ) of data security is also discussed .\",\n          \"The dissection room experience provides an opportunity for nurturing the principles of ethical practice among medical students early in the curriculum .\"\n        ],\n        \"semantic_type\": \"\",\n        \"description\": \"\"\n      }\n    },\n    {\n      \"column\": \"dir\",\n      \"properties\": {\n        \"dtype\": \"category\",\n        \"num_unique_values\": 2,\n        \"samples\": [\n          \"1>2\",\n          \"1<2\"\n        ],\n        \"semantic_type\": \"\",\n        \"description\": \"\"\n      }\n    },\n    {\n      \"column\": \"orig_label\",\n      \"properties\": {\n        \"dtype\": \"category\",\n        \"num_unique_values\": 12,\n        \"samples\": [\n          \"temporal\",\n          \"textual-organization\"\n        ],\n        \"semantic_type\": \"\",\n        \"description\": \"\"\n      }\n    },\n    {\n      \"column\": \"label\",\n      \"properties\": {\n        \"dtype\": \"category\",\n        \"num_unique_values\": 12,\n        \"samples\": [\n          \"temporal\",\n          \"textual-organization\"\n        ],\n        \"semantic_type\": \"\",\n        \"description\": \"\"\n      }\n    }\n  ]\n}"
            }
          },
          "metadata": {},
          "execution_count": 6
        }
      ]
    },
    {
      "cell_type": "code",
      "source": [
        "data_with_texts = pd.read_csv('/content/drive/MyDrive/chat_gpt_datasets/files for prediction/eng_dep_covdtb_texts_test.csv')\n",
        "data_with_texts.head()"
      ],
      "metadata": {
        "colab": {
          "base_uri": "https://localhost:8080/",
          "height": 206
        },
        "id": "oADJKLgbu3eC",
        "outputId": "ae737da7-68d3-4c5a-c012-bde62b2723b0"
      },
      "execution_count": null,
      "outputs": [
        {
          "output_type": "execute_result",
          "data": {
            "text/plain": [
              "                                Document ID  \\\n",
              "0  00c862a6402381a8541bcffe843696e059095300   \n",
              "1  0146a0b36f80ebcb868c7e16fb60c1a9d2afbf83   \n",
              "2  0232f18e7bbf3192e9e34da1c0abe2a20b2ba1e4   \n",
              "3  09bdbea1700a3826acc33484ed51e2fa8c23f047   \n",
              "4  0b362bc7e9278b56c2740ab7bc10e91c036f835a   \n",
              "\n",
              "                                   Document Abstract  \n",
              "0  In this study , we investigated turkey reoviru...  \n",
              "1  This is an extensive review on epiphytic plant...  \n",
              "2  Herein , the LASSBio Chemical Library is prese...  \n",
              "3  Data - centric models of COVID-19 have been tr...  \n",
              "4  We study seasonal epidemic spreading in a susc...  "
            ],
            "text/html": [
              "\n",
              "  <div id=\"df-3d487d99-2c9f-454b-9c7d-4160c96f053f\" class=\"colab-df-container\">\n",
              "    <div>\n",
              "<style scoped>\n",
              "    .dataframe tbody tr th:only-of-type {\n",
              "        vertical-align: middle;\n",
              "    }\n",
              "\n",
              "    .dataframe tbody tr th {\n",
              "        vertical-align: top;\n",
              "    }\n",
              "\n",
              "    .dataframe thead th {\n",
              "        text-align: right;\n",
              "    }\n",
              "</style>\n",
              "<table border=\"1\" class=\"dataframe\">\n",
              "  <thead>\n",
              "    <tr style=\"text-align: right;\">\n",
              "      <th></th>\n",
              "      <th>Document ID</th>\n",
              "      <th>Document Abstract</th>\n",
              "    </tr>\n",
              "  </thead>\n",
              "  <tbody>\n",
              "    <tr>\n",
              "      <th>0</th>\n",
              "      <td>00c862a6402381a8541bcffe843696e059095300</td>\n",
              "      <td>In this study , we investigated turkey reoviru...</td>\n",
              "    </tr>\n",
              "    <tr>\n",
              "      <th>1</th>\n",
              "      <td>0146a0b36f80ebcb868c7e16fb60c1a9d2afbf83</td>\n",
              "      <td>This is an extensive review on epiphytic plant...</td>\n",
              "    </tr>\n",
              "    <tr>\n",
              "      <th>2</th>\n",
              "      <td>0232f18e7bbf3192e9e34da1c0abe2a20b2ba1e4</td>\n",
              "      <td>Herein , the LASSBio Chemical Library is prese...</td>\n",
              "    </tr>\n",
              "    <tr>\n",
              "      <th>3</th>\n",
              "      <td>09bdbea1700a3826acc33484ed51e2fa8c23f047</td>\n",
              "      <td>Data - centric models of COVID-19 have been tr...</td>\n",
              "    </tr>\n",
              "    <tr>\n",
              "      <th>4</th>\n",
              "      <td>0b362bc7e9278b56c2740ab7bc10e91c036f835a</td>\n",
              "      <td>We study seasonal epidemic spreading in a susc...</td>\n",
              "    </tr>\n",
              "  </tbody>\n",
              "</table>\n",
              "</div>\n",
              "    <div class=\"colab-df-buttons\">\n",
              "\n",
              "  <div class=\"colab-df-container\">\n",
              "    <button class=\"colab-df-convert\" onclick=\"convertToInteractive('df-3d487d99-2c9f-454b-9c7d-4160c96f053f')\"\n",
              "            title=\"Convert this dataframe to an interactive table.\"\n",
              "            style=\"display:none;\">\n",
              "\n",
              "  <svg xmlns=\"http://www.w3.org/2000/svg\" height=\"24px\" viewBox=\"0 -960 960 960\">\n",
              "    <path d=\"M120-120v-720h720v720H120Zm60-500h600v-160H180v160Zm220 220h160v-160H400v160Zm0 220h160v-160H400v160ZM180-400h160v-160H180v160Zm440 0h160v-160H620v160ZM180-180h160v-160H180v160Zm440 0h160v-160H620v160Z\"/>\n",
              "  </svg>\n",
              "    </button>\n",
              "\n",
              "  <style>\n",
              "    .colab-df-container {\n",
              "      display:flex;\n",
              "      gap: 12px;\n",
              "    }\n",
              "\n",
              "    .colab-df-convert {\n",
              "      background-color: #E8F0FE;\n",
              "      border: none;\n",
              "      border-radius: 50%;\n",
              "      cursor: pointer;\n",
              "      display: none;\n",
              "      fill: #1967D2;\n",
              "      height: 32px;\n",
              "      padding: 0 0 0 0;\n",
              "      width: 32px;\n",
              "    }\n",
              "\n",
              "    .colab-df-convert:hover {\n",
              "      background-color: #E2EBFA;\n",
              "      box-shadow: 0px 1px 2px rgba(60, 64, 67, 0.3), 0px 1px 3px 1px rgba(60, 64, 67, 0.15);\n",
              "      fill: #174EA6;\n",
              "    }\n",
              "\n",
              "    .colab-df-buttons div {\n",
              "      margin-bottom: 4px;\n",
              "    }\n",
              "\n",
              "    [theme=dark] .colab-df-convert {\n",
              "      background-color: #3B4455;\n",
              "      fill: #D2E3FC;\n",
              "    }\n",
              "\n",
              "    [theme=dark] .colab-df-convert:hover {\n",
              "      background-color: #434B5C;\n",
              "      box-shadow: 0px 1px 3px 1px rgba(0, 0, 0, 0.15);\n",
              "      filter: drop-shadow(0px 1px 2px rgba(0, 0, 0, 0.3));\n",
              "      fill: #FFFFFF;\n",
              "    }\n",
              "  </style>\n",
              "\n",
              "    <script>\n",
              "      const buttonEl =\n",
              "        document.querySelector('#df-3d487d99-2c9f-454b-9c7d-4160c96f053f button.colab-df-convert');\n",
              "      buttonEl.style.display =\n",
              "        google.colab.kernel.accessAllowed ? 'block' : 'none';\n",
              "\n",
              "      async function convertToInteractive(key) {\n",
              "        const element = document.querySelector('#df-3d487d99-2c9f-454b-9c7d-4160c96f053f');\n",
              "        const dataTable =\n",
              "          await google.colab.kernel.invokeFunction('convertToInteractive',\n",
              "                                                    [key], {});\n",
              "        if (!dataTable) return;\n",
              "\n",
              "        const docLinkHtml = 'Like what you see? Visit the ' +\n",
              "          '<a target=\"_blank\" href=https://colab.research.google.com/notebooks/data_table.ipynb>data table notebook</a>'\n",
              "          + ' to learn more about interactive tables.';\n",
              "        element.innerHTML = '';\n",
              "        dataTable['output_type'] = 'display_data';\n",
              "        await google.colab.output.renderOutput(dataTable, element);\n",
              "        const docLink = document.createElement('div');\n",
              "        docLink.innerHTML = docLinkHtml;\n",
              "        element.appendChild(docLink);\n",
              "      }\n",
              "    </script>\n",
              "  </div>\n",
              "\n",
              "\n",
              "<div id=\"df-b2ad86b7-614b-4ae6-87d3-56c002a10af1\">\n",
              "  <button class=\"colab-df-quickchart\" onclick=\"quickchart('df-b2ad86b7-614b-4ae6-87d3-56c002a10af1')\"\n",
              "            title=\"Suggest charts\"\n",
              "            style=\"display:none;\">\n",
              "\n",
              "<svg xmlns=\"http://www.w3.org/2000/svg\" height=\"24px\"viewBox=\"0 0 24 24\"\n",
              "     width=\"24px\">\n",
              "    <g>\n",
              "        <path d=\"M19 3H5c-1.1 0-2 .9-2 2v14c0 1.1.9 2 2 2h14c1.1 0 2-.9 2-2V5c0-1.1-.9-2-2-2zM9 17H7v-7h2v7zm4 0h-2V7h2v10zm4 0h-2v-4h2v4z\"/>\n",
              "    </g>\n",
              "</svg>\n",
              "  </button>\n",
              "\n",
              "<style>\n",
              "  .colab-df-quickchart {\n",
              "      --bg-color: #E8F0FE;\n",
              "      --fill-color: #1967D2;\n",
              "      --hover-bg-color: #E2EBFA;\n",
              "      --hover-fill-color: #174EA6;\n",
              "      --disabled-fill-color: #AAA;\n",
              "      --disabled-bg-color: #DDD;\n",
              "  }\n",
              "\n",
              "  [theme=dark] .colab-df-quickchart {\n",
              "      --bg-color: #3B4455;\n",
              "      --fill-color: #D2E3FC;\n",
              "      --hover-bg-color: #434B5C;\n",
              "      --hover-fill-color: #FFFFFF;\n",
              "      --disabled-bg-color: #3B4455;\n",
              "      --disabled-fill-color: #666;\n",
              "  }\n",
              "\n",
              "  .colab-df-quickchart {\n",
              "    background-color: var(--bg-color);\n",
              "    border: none;\n",
              "    border-radius: 50%;\n",
              "    cursor: pointer;\n",
              "    display: none;\n",
              "    fill: var(--fill-color);\n",
              "    height: 32px;\n",
              "    padding: 0;\n",
              "    width: 32px;\n",
              "  }\n",
              "\n",
              "  .colab-df-quickchart:hover {\n",
              "    background-color: var(--hover-bg-color);\n",
              "    box-shadow: 0 1px 2px rgba(60, 64, 67, 0.3), 0 1px 3px 1px rgba(60, 64, 67, 0.15);\n",
              "    fill: var(--button-hover-fill-color);\n",
              "  }\n",
              "\n",
              "  .colab-df-quickchart-complete:disabled,\n",
              "  .colab-df-quickchart-complete:disabled:hover {\n",
              "    background-color: var(--disabled-bg-color);\n",
              "    fill: var(--disabled-fill-color);\n",
              "    box-shadow: none;\n",
              "  }\n",
              "\n",
              "  .colab-df-spinner {\n",
              "    border: 2px solid var(--fill-color);\n",
              "    border-color: transparent;\n",
              "    border-bottom-color: var(--fill-color);\n",
              "    animation:\n",
              "      spin 1s steps(1) infinite;\n",
              "  }\n",
              "\n",
              "  @keyframes spin {\n",
              "    0% {\n",
              "      border-color: transparent;\n",
              "      border-bottom-color: var(--fill-color);\n",
              "      border-left-color: var(--fill-color);\n",
              "    }\n",
              "    20% {\n",
              "      border-color: transparent;\n",
              "      border-left-color: var(--fill-color);\n",
              "      border-top-color: var(--fill-color);\n",
              "    }\n",
              "    30% {\n",
              "      border-color: transparent;\n",
              "      border-left-color: var(--fill-color);\n",
              "      border-top-color: var(--fill-color);\n",
              "      border-right-color: var(--fill-color);\n",
              "    }\n",
              "    40% {\n",
              "      border-color: transparent;\n",
              "      border-right-color: var(--fill-color);\n",
              "      border-top-color: var(--fill-color);\n",
              "    }\n",
              "    60% {\n",
              "      border-color: transparent;\n",
              "      border-right-color: var(--fill-color);\n",
              "    }\n",
              "    80% {\n",
              "      border-color: transparent;\n",
              "      border-right-color: var(--fill-color);\n",
              "      border-bottom-color: var(--fill-color);\n",
              "    }\n",
              "    90% {\n",
              "      border-color: transparent;\n",
              "      border-bottom-color: var(--fill-color);\n",
              "    }\n",
              "  }\n",
              "</style>\n",
              "\n",
              "  <script>\n",
              "    async function quickchart(key) {\n",
              "      const quickchartButtonEl =\n",
              "        document.querySelector('#' + key + ' button');\n",
              "      quickchartButtonEl.disabled = true;  // To prevent multiple clicks.\n",
              "      quickchartButtonEl.classList.add('colab-df-spinner');\n",
              "      try {\n",
              "        const charts = await google.colab.kernel.invokeFunction(\n",
              "            'suggestCharts', [key], {});\n",
              "      } catch (error) {\n",
              "        console.error('Error during call to suggestCharts:', error);\n",
              "      }\n",
              "      quickchartButtonEl.classList.remove('colab-df-spinner');\n",
              "      quickchartButtonEl.classList.add('colab-df-quickchart-complete');\n",
              "    }\n",
              "    (() => {\n",
              "      let quickchartButtonEl =\n",
              "        document.querySelector('#df-b2ad86b7-614b-4ae6-87d3-56c002a10af1 button');\n",
              "      quickchartButtonEl.style.display =\n",
              "        google.colab.kernel.accessAllowed ? 'block' : 'none';\n",
              "    })();\n",
              "  </script>\n",
              "</div>\n",
              "    </div>\n",
              "  </div>\n"
            ],
            "application/vnd.google.colaboratory.intrinsic+json": {
              "type": "dataframe",
              "variable_name": "data_with_texts",
              "summary": "{\n  \"name\": \"data_with_texts\",\n  \"rows\": 150,\n  \"fields\": [\n    {\n      \"column\": \"Document ID\",\n      \"properties\": {\n        \"dtype\": \"string\",\n        \"num_unique_values\": 150,\n        \"samples\": [\n          \"79fa8fdc827ebf13a568461671621f811d9af7f5\",\n          \"20ec367d459abe3e88b7db18a359f087c37bd90e\",\n          \"c90121a3f539b59d4b528f3a1dd172b75533c0cc\"\n        ],\n        \"semantic_type\": \"\",\n        \"description\": \"\"\n      }\n    },\n    {\n      \"column\": \"Document Abstract\",\n      \"properties\": {\n        \"dtype\": \"string\",\n        \"num_unique_values\": 150,\n        \"samples\": [\n          \"Canine parvovirus ( CPV ) is the number one viral cause of enteritis , morbidity , and mortality in 8-week - old young puppies . We have developed twin assays ( slide agglutination test [ SAT ] for CPV antigen and slide inhibition test [ SIT ] for CPV antibody ) that are sensitive , specific , cost - effective , generic for all genotypes of CPV , and provide instant results for CPV antigen detection in feces and antibody quantification in serum . We found these assays to be useful for routine applications in kennels with large numbers of puppies at risk . The results of these assays are available in 1 min and do not require any special instrumentation . SAT - SIT technology will find applications in rapid screening of samples for other hemagglutinating emerging viruses of animals and humans ( influenza virus and severe acute respiratory syndrome coronavirus ) .\",\n          \"Enteroviruses are common human pathogens , and infections are particularly frequent in children . Severe infections can lead to a variety of diseases , including poliomyelitis , aseptic meningitis , myocarditis and neonatal sepsis . Enterovirus infections have also been implicated in asthmatic exacerbations and type 1 diabetes . The large disease spectrum of the closely related enteroviruses may be partially , but not fully , explained by differences in tissue tropism . The molecular mechanisms by which enteroviruses cause disease are poorly understood , but there is increasing evidence that the two enteroviral proteases , 2A pro and 3C pro , are important mediators of pathology . These proteases perform the posttranslational proteolytic processing of the viral polyprotein , but they also cleave several host - cell proteins in order to promote the production of new virus particles , as well as to evade the cellular antiviral immune responses . Enterovirus - associated processing of cellular proteins may also contribute to pathology , as elegantly demonstrated by the 2A pro -mediated cleavage of dystrophin in cardiomyocytes contributing to Coxsackievirus - induced cardiomyopathy . It is likely that improved tools to identify targets for these proteases will reveal additional host protein substrates that can be linked to specific enterovirus - associated diseases . Here , we discuss the function of the enteroviral proteases in the virus replication cycle and review the current knowledge regarding how these proteases modulate the infected cell in order to favour virus replication , including ways to avoid detection by the immune system . We also highlight new possibilities for the identification of protease - specific cellular targets and thereby a way to discover novel mechanisms contributing to disease .\",\n          \"Bird to human transmission of high pathogenicity avian influenza virus ( HPAIV ) poses a significant risk of triggering a flu pandemic in the human population . Therefore , vaccination of susceptible poultry during an HPAIV outbreak might be the best remedy to prevent such transmissions . To this end , suitable formulations and an effective mass vaccination method that can be translated to field settings needs to be developed . Our previous study in chickens has shown that inhalation of a non - adjuvanted dry powder influenza vaccine formulation during normal breathing results in partial protection against lethal influenza challenge . The aim of the present study was to improve the effectiveness of pulmonary vaccination by increasing the vaccine dose deposited in the lungs and by the use of suitable adjuvants . Two adjuvants , namely , Bacterium - like Particles ( BLP ) and Advax , were spray freeze dried with influenza vaccine into dry powder formulations . Delivery of dry formulations directly at the syrinx revealed that BLP and Advax had the potential to boost either systemic or mucosal immune responses or both . Upon passive inhalation of dry influenza vaccine formulations in an optimized set - up , BLP and Advax / BLP adjuvanted formulations induced significantly higher systemic immune responses than the nonadjuvanted formulation . Remarkably , all vaccinated animals not only survived a lethal influenza challenge , but also did not show any shedding of challenge virus except for two out of six animals in the Advax group . Overall , our results indicate that passive inhalation is feasible , effective and suitable for mass vaccination of chickens if it can be adapted to field settings .\"\n        ],\n        \"semantic_type\": \"\",\n        \"description\": \"\"\n      }\n    }\n  ]\n}"
            }
          },
          "metadata": {},
          "execution_count": 7
        }
      ]
    },
    {
      "cell_type": "code",
      "source": [
        "message_part1 = get_mess()\n",
        "message_part2 = {\n",
        "      'elaboration',\n",
        "      'findings',\n",
        "      'joint',\n",
        "      'attribution',\n",
        "      'manner-means',\n",
        "      'enablement',\n",
        "      'cause-result',\n",
        "      'background',\n",
        "      'comparison',\n",
        "      'textual-organization',\n",
        "      'temporal',\n",
        "      'condition'\n",
        "  }\n",
        "\n",
        "for i in range(0, len(dataset)):\n",
        "  print()\n",
        "  doc_id = dataset['doc'][i]\n",
        "  sentence_1 = dataset['unit1_txt'][i]\n",
        "  sentence_2 = dataset['unit2_txt'][i]\n",
        "  real_label = dataset['label'][i]\n",
        "\n",
        "  row = data_with_texts[data_with_texts['Document ID'] == doc_id]\n",
        "  document_text = row['Document Abstract'].values[0]\n",
        "\n",
        "  message_part3 = {\n",
        "      \"text\" : document_text\n",
        "  }\n",
        "\n",
        "  message_part4 = {\n",
        "        \"discourse_unit_1\" : sentence_1,\n",
        "        \"discourse_unit_2\" : sentence_2\n",
        "  }\n",
        "\n",
        "  prompt_message = message_part1 + '\\n' + 'relation_types = ' + str(message_part2) + '\\n' + '\\nexample_text = ' + str(message_part3) + '\\n' + '\\nexample_discourse_units = ' + str(message_part4)\n",
        "  print(str(i) + \" \" + str(message_part4))\n",
        "  try:\n",
        "    result, response = batch_gpt(prompt_message)\n",
        "    result = result.replace('json', '')\n",
        "    result = result.replace('`', '')\n",
        "    result = result.strip()\n",
        "    print(result)\n",
        "    json_result = json.loads(result)\n",
        "    gpt_relation = json_result['discourse_relation']\n",
        "  except Exception as e:\n",
        "    print(\"ERROR\")\n",
        "    print(e)\n",
        "    unprocessed_data.loc[len(unprocessed_data)] = {'unit1_txt': dataset['unit1_txt'][i], 'unit2_txt': dataset['unit2_txt'][i], 'dir': dataset['dir'][i], 'label': real_label}\n",
        "  else:\n",
        "    new_row = {'EDU_1': sentence_1, 'EDU_2': sentence_2, 'Real discourse relation': real_label, 'Gamma discourse relation': gpt_relation}\n",
        "    df.loc[len(df)] = new_row\n",
        "    if i % 30 == 0:\n",
        "      time.sleep(60)"
      ],
      "metadata": {
        "id": "_Zle5n4Hu6k_",
        "collapsed": true
      },
      "execution_count": null,
      "outputs": []
    },
    {
      "cell_type": "code",
      "source": [
        "df.to_csv('path_to_save/gemma_eng_dep_covdtb_test_results.csv', index=False)"
      ],
      "metadata": {
        "id": "97_Yr0JCvcLu"
      },
      "execution_count": null,
      "outputs": []
    },
    {
      "cell_type": "markdown",
      "source": [
        "# RESULTS"
      ],
      "metadata": {
        "id": "ZGzTqCA6CQS_"
      }
    },
    {
      "cell_type": "code",
      "source": [
        "relation_results = df"
      ],
      "metadata": {
        "id": "ZGSwr6_8CSUW"
      },
      "execution_count": null,
      "outputs": []
    },
    {
      "cell_type": "code",
      "source": [
        "print(relation_results.shape)"
      ],
      "metadata": {
        "colab": {
          "base_uri": "https://localhost:8080/"
        },
        "id": "Rq4LhiJDDGK_",
        "outputId": "3ecada30-824d-43fd-94d4-5601d7b78f48"
      },
      "execution_count": null,
      "outputs": [
        {
          "output_type": "stream",
          "name": "stdout",
          "text": [
            "(2584, 4)\n"
          ]
        }
      ]
    },
    {
      "cell_type": "code",
      "source": [
        "relation_results.head(1)"
      ],
      "metadata": {
        "colab": {
          "base_uri": "https://localhost:8080/",
          "height": 80
        },
        "id": "BDU5dQgDDPPD",
        "outputId": "8267efbb-b0f8-4aff-c117-7ee79bcb3a7b"
      },
      "execution_count": null,
      "outputs": [
        {
          "output_type": "execute_result",
          "data": {
            "text/plain": [
              "                                               EDU_1           EDU_2  \\\n",
              "0  In this study , we investigated turkey reoviru...  aged 15 days .   \n",
              "\n",
              "  Real discourse relation Gamma discourse relation  \n",
              "0             elaboration                 temporal  "
            ],
            "text/html": [
              "\n",
              "  <div id=\"df-d24c9134-0ed1-493c-822d-f5f8c148c94c\" class=\"colab-df-container\">\n",
              "    <div>\n",
              "<style scoped>\n",
              "    .dataframe tbody tr th:only-of-type {\n",
              "        vertical-align: middle;\n",
              "    }\n",
              "\n",
              "    .dataframe tbody tr th {\n",
              "        vertical-align: top;\n",
              "    }\n",
              "\n",
              "    .dataframe thead th {\n",
              "        text-align: right;\n",
              "    }\n",
              "</style>\n",
              "<table border=\"1\" class=\"dataframe\">\n",
              "  <thead>\n",
              "    <tr style=\"text-align: right;\">\n",
              "      <th></th>\n",
              "      <th>EDU_1</th>\n",
              "      <th>EDU_2</th>\n",
              "      <th>Real discourse relation</th>\n",
              "      <th>Gamma discourse relation</th>\n",
              "    </tr>\n",
              "  </thead>\n",
              "  <tbody>\n",
              "    <tr>\n",
              "      <th>0</th>\n",
              "      <td>In this study , we investigated turkey reoviru...</td>\n",
              "      <td>aged 15 days .</td>\n",
              "      <td>elaboration</td>\n",
              "      <td>temporal</td>\n",
              "    </tr>\n",
              "  </tbody>\n",
              "</table>\n",
              "</div>\n",
              "    <div class=\"colab-df-buttons\">\n",
              "\n",
              "  <div class=\"colab-df-container\">\n",
              "    <button class=\"colab-df-convert\" onclick=\"convertToInteractive('df-d24c9134-0ed1-493c-822d-f5f8c148c94c')\"\n",
              "            title=\"Convert this dataframe to an interactive table.\"\n",
              "            style=\"display:none;\">\n",
              "\n",
              "  <svg xmlns=\"http://www.w3.org/2000/svg\" height=\"24px\" viewBox=\"0 -960 960 960\">\n",
              "    <path d=\"M120-120v-720h720v720H120Zm60-500h600v-160H180v160Zm220 220h160v-160H400v160Zm0 220h160v-160H400v160ZM180-400h160v-160H180v160Zm440 0h160v-160H620v160ZM180-180h160v-160H180v160Zm440 0h160v-160H620v160Z\"/>\n",
              "  </svg>\n",
              "    </button>\n",
              "\n",
              "  <style>\n",
              "    .colab-df-container {\n",
              "      display:flex;\n",
              "      gap: 12px;\n",
              "    }\n",
              "\n",
              "    .colab-df-convert {\n",
              "      background-color: #E8F0FE;\n",
              "      border: none;\n",
              "      border-radius: 50%;\n",
              "      cursor: pointer;\n",
              "      display: none;\n",
              "      fill: #1967D2;\n",
              "      height: 32px;\n",
              "      padding: 0 0 0 0;\n",
              "      width: 32px;\n",
              "    }\n",
              "\n",
              "    .colab-df-convert:hover {\n",
              "      background-color: #E2EBFA;\n",
              "      box-shadow: 0px 1px 2px rgba(60, 64, 67, 0.3), 0px 1px 3px 1px rgba(60, 64, 67, 0.15);\n",
              "      fill: #174EA6;\n",
              "    }\n",
              "\n",
              "    .colab-df-buttons div {\n",
              "      margin-bottom: 4px;\n",
              "    }\n",
              "\n",
              "    [theme=dark] .colab-df-convert {\n",
              "      background-color: #3B4455;\n",
              "      fill: #D2E3FC;\n",
              "    }\n",
              "\n",
              "    [theme=dark] .colab-df-convert:hover {\n",
              "      background-color: #434B5C;\n",
              "      box-shadow: 0px 1px 3px 1px rgba(0, 0, 0, 0.15);\n",
              "      filter: drop-shadow(0px 1px 2px rgba(0, 0, 0, 0.3));\n",
              "      fill: #FFFFFF;\n",
              "    }\n",
              "  </style>\n",
              "\n",
              "    <script>\n",
              "      const buttonEl =\n",
              "        document.querySelector('#df-d24c9134-0ed1-493c-822d-f5f8c148c94c button.colab-df-convert');\n",
              "      buttonEl.style.display =\n",
              "        google.colab.kernel.accessAllowed ? 'block' : 'none';\n",
              "\n",
              "      async function convertToInteractive(key) {\n",
              "        const element = document.querySelector('#df-d24c9134-0ed1-493c-822d-f5f8c148c94c');\n",
              "        const dataTable =\n",
              "          await google.colab.kernel.invokeFunction('convertToInteractive',\n",
              "                                                    [key], {});\n",
              "        if (!dataTable) return;\n",
              "\n",
              "        const docLinkHtml = 'Like what you see? Visit the ' +\n",
              "          '<a target=\"_blank\" href=https://colab.research.google.com/notebooks/data_table.ipynb>data table notebook</a>'\n",
              "          + ' to learn more about interactive tables.';\n",
              "        element.innerHTML = '';\n",
              "        dataTable['output_type'] = 'display_data';\n",
              "        await google.colab.output.renderOutput(dataTable, element);\n",
              "        const docLink = document.createElement('div');\n",
              "        docLink.innerHTML = docLinkHtml;\n",
              "        element.appendChild(docLink);\n",
              "      }\n",
              "    </script>\n",
              "  </div>\n",
              "\n",
              "    </div>\n",
              "  </div>\n"
            ],
            "application/vnd.google.colaboratory.intrinsic+json": {
              "type": "dataframe",
              "variable_name": "relation_results",
              "summary": "{\n  \"name\": \"relation_results\",\n  \"rows\": 2584,\n  \"fields\": [\n    {\n      \"column\": \"EDU_1\",\n      \"properties\": {\n        \"dtype\": \"string\",\n        \"num_unique_values\": 1634,\n        \"samples\": [\n          \"They also motivate a plea\",\n          \"Further , we provide a re - formulation of a specific attention based GNN , Graph Attention Network ( GAT )\",\n          \"Altogether , our study improved the protein expression level of PBD-2 in pigs by site - specific integration of pbd-2 into the pig genome ,\"\n        ],\n        \"semantic_type\": \"\",\n        \"description\": \"\"\n      }\n    },\n    {\n      \"column\": \"EDU_2\",\n      \"properties\": {\n        \"dtype\": \"string\",\n        \"num_unique_values\": 2370,\n        \"samples\": [\n          \"including whole genome sequencing and computed tomography imaging\",\n          \"meant for use as vaccines .\",\n          \"Further , collecting a large amount of data is impractical within a short time period ,\"\n        ],\n        \"semantic_type\": \"\",\n        \"description\": \"\"\n      }\n    },\n    {\n      \"column\": \"Real discourse relation\",\n      \"properties\": {\n        \"dtype\": \"category\",\n        \"num_unique_values\": 12,\n        \"samples\": [\n          \"temporal\",\n          \"textual-organization\",\n          \"elaboration\"\n        ],\n        \"semantic_type\": \"\",\n        \"description\": \"\"\n      }\n    },\n    {\n      \"column\": \"Gamma discourse relation\",\n      \"properties\": {\n        \"dtype\": \"category\",\n        \"num_unique_values\": 49,\n        \"samples\": [\n          \"attribution\",\n          \"problem\",\n          \"finds\"\n        ],\n        \"semantic_type\": \"\",\n        \"description\": \"\"\n      }\n    }\n  ]\n}"
            }
          },
          "metadata": {},
          "execution_count": 3
        }
      ]
    },
    {
      "cell_type": "code",
      "source": [
        "print(\"Accuracy score = \" + str(accuracy_score(relation_results['Real discourse relation'].astype(str), relation_results['Gamma discourse relation'].astype(str))))"
      ],
      "metadata": {
        "colab": {
          "base_uri": "https://localhost:8080/"
        },
        "id": "E1iAtOiPCbXV",
        "outputId": "eea4c537-8759-4395-ec01-6816e38915b0"
      },
      "execution_count": null,
      "outputs": [
        {
          "output_type": "stream",
          "name": "stdout",
          "text": [
            "Accuracy score = 0.33900928792569657\n"
          ]
        }
      ]
    },
    {
      "cell_type": "code",
      "source": [
        "f1 = f1_score(relation_results['Real discourse relation'].astype(str),  relation_results['Gamma discourse relation'].astype(str), average='macro')\n",
        "print(\"F1 score = \" + str(f1))"
      ],
      "metadata": {
        "colab": {
          "base_uri": "https://localhost:8080/"
        },
        "id": "JVXKmidOCZZJ",
        "outputId": "4351f4a3-1a01-4e9e-bf8c-3c857161cc75"
      },
      "execution_count": null,
      "outputs": [
        {
          "output_type": "stream",
          "name": "stdout",
          "text": [
            "F1 score = 0.048115697699915715\n"
          ]
        }
      ]
    },
    {
      "cell_type": "code",
      "source": [
        "all_relations = relation_results['Real discourse relation'].unique()\n",
        "for rel in all_relations:\n",
        "  filtered_df = relation_results[relation_results['Real discourse relation'] == rel]\n",
        "  print(\"Accuracy score for relation \" + str(rel) + \" = \" + str(accuracy_score(filtered_df['Real discourse relation'].astype(str), filtered_df['Gamma discourse relation'].astype(str))))"
      ],
      "metadata": {
        "colab": {
          "base_uri": "https://localhost:8080/"
        },
        "id": "QBKPh1n9CdlZ",
        "outputId": "c611275c-7612-4022-ce33-552e396aede5"
      },
      "execution_count": null,
      "outputs": [
        {
          "output_type": "stream",
          "name": "stdout",
          "text": [
            "Accuracy score for relation elaboration = 0.45987654320987653\n",
            "Accuracy score for relation findings = 0.026143790849673203\n",
            "Accuracy score for relation joint = 0.1206896551724138\n",
            "Accuracy score for relation attribution = 0.009708737864077669\n",
            "Accuracy score for relation manner-means = 0.4260869565217391\n",
            "Accuracy score for relation enablement = 0.03619909502262444\n",
            "Accuracy score for relation cause-result = 0.6296296296296297\n",
            "Accuracy score for relation background = 0.5227272727272727\n",
            "Accuracy score for relation comparison = 0.1111111111111111\n",
            "Accuracy score for relation textual-organization = 0.16363636363636364\n",
            "Accuracy score for relation temporal = 0.12\n",
            "Accuracy score for relation condition = 0.6363636363636364\n"
          ]
        }
      ]
    },
    {
      "cell_type": "code",
      "source": [
        "conf_matrix = confusion_matrix(relation_results[\"Real discourse relation\"].astype(str), relation_results[\"Gamma discourse relation\"].astype(str), labels=all_relations)\n",
        "confusion_df = pd.DataFrame(conf_matrix, index=all_relations, columns=all_relations)\n",
        "\n",
        "# Create a heatmap to visualize the confusion matrix\n",
        "plt.figure(figsize=(8, 6))\n",
        "sns.heatmap(confusion_df, annot=True, fmt=\"d\", cmap=\"YlGnBu\", linewidths=1, linecolor=\"black\", cbar=False)\n",
        "plt.xlabel(\"Predicted\")\n",
        "plt.ylabel(\"Actual\")\n",
        "plt.title(\"Confusion Matrix\")\n",
        "\n",
        "plt.savefig(\"/content/confusion_matrix_gemma_covdtb_all_relations.png\", dpi=600, bbox_inches='tight')\n",
        "\n",
        "plt.show()"
      ],
      "metadata": {
        "colab": {
          "base_uri": "https://localhost:8080/",
          "height": 691
        },
        "id": "QxxZelO-OlZU",
        "outputId": "cacc1f20-6d49-4812-959d-b045a1fad816"
      },
      "execution_count": null,
      "outputs": [
        {
          "output_type": "display_data",
          "data": {
            "text/plain": [
              "<Figure size 800x600 with 1 Axes>"
            ],
            "image/png": "[encoded data removed]"
          },
          "metadata": {}
        }
      ]
    }
  ]
}